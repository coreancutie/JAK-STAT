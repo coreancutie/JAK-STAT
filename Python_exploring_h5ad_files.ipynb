{
 "cells": [
  {
   "cell_type": "code",
   "execution_count": 20,
   "id": "8231c50d-85ba-4f0f-8926-36d4f4cea7bb",
   "metadata": {},
   "outputs": [],
   "source": [
    "import hisepy\n",
    "import scanpy as sc\n",
    "import pandas as pd"
   ]
  },
  {
   "cell_type": "code",
   "execution_count": 2,
   "id": "36bd7651-47c1-4115-b0b4-ea0b7339c175",
   "metadata": {},
   "outputs": [],
   "source": [
    "h5ad_files = hisepy.cache_fileset('c3158ce1-309f-45fa-86dd-4534a4f7ca94')"
   ]
  },
  {
   "cell_type": "code",
   "execution_count": 3,
   "id": "8ad8ecee-f293-4231-b20d-f18a89e263e5",
   "metadata": {},
   "outputs": [
    {
     "data": {
      "text/plain": [
       "['/home/workspace/input/1918706177/fileset/c3158ce1-309f-45fa-86dd-4534a4f7ca94/vanadium-actinium-nihonium/Afatinib_BIBW2992_counts_filtered_labeled_sampled.h5ad',\n",
       " '/home/workspace/input/1918706177/fileset/c3158ce1-309f-45fa-86dd-4534a4f7ca94/vanadium-actinium-nihonium/Afatinib_dimaleate_counts_filtered_labeled_sampled.h5ad',\n",
       " '/home/workspace/input/1918706177/fileset/c3158ce1-309f-45fa-86dd-4534a4f7ca94/vanadium-actinium-nihonium/Baricitinib_LY3009104_INCB028050_counts_filtered_labeled_sampled.h5ad']"
      ]
     },
     "execution_count": 3,
     "metadata": {},
     "output_type": "execute_result"
    }
   ],
   "source": [
    "h5ad_files[0:3]"
   ]
  },
  {
   "cell_type": "code",
   "execution_count": 4,
   "id": "6ad8eb66-ff66-4a1b-9b6f-139fd95dd504",
   "metadata": {},
   "outputs": [],
   "source": [
    "adata_list = []\n",
    "for h5ad_file in h5ad_files:\n",
    "    adata = sc.read_h5ad(h5ad_file)\n",
    "    adata_list.append(adata)"
   ]
  },
  {
   "cell_type": "code",
   "execution_count": 5,
   "id": "be3bc413-2363-42c6-8786-278bfc0baa05",
   "metadata": {},
   "outputs": [
    {
     "data": {
      "text/plain": [
       "AnnData object with n_obs × n_vars = 25000 × 1916\n",
       "    obs: 'original_barcodes', 'batch_id', 'pool_id', 'chip_id', 'well_id', 'n_umis', 'n_genes', 'plate_location', 'cyto_treatment', 'drug_treatment', 'drug_name', 'drug_cas_number', 'drug_mw', 'drug_solvent', 'drug_pathway', 'drug_target', 'drug_description', 'drug_chembl_name', 'drug_chembl_id', 'AIFI_L1', 'AIFI_L2', 'leiden_2'\n",
       "    uns: 'drug_name_colors', 'leiden_2', 'neighbors', 'pca', 'umap'\n",
       "    obsm: 'X_pca', 'X_umap'\n",
       "    obsp: 'connectivities', 'distances'"
      ]
     },
     "execution_count": 5,
     "metadata": {},
     "output_type": "execute_result"
    }
   ],
   "source": [
    "adata_list[0]"
   ]
  },
  {
   "cell_type": "code",
   "execution_count": 6,
   "id": "357462d3-97a0-4c49-b624-02d67063625e",
   "metadata": {},
   "outputs": [
    {
     "name": "stderr",
     "output_type": "stream",
     "text": [
      "/home/workspace/environment/pythonscrna12/lib/python3.13/site-packages/anndata/_core/merge.py:1667: FutureWarning: The behavior of DataFrame concatenation with empty or all-NA entries is deprecated. In a future version, this will no longer exclude empty or all-NA columns when determining the result dtypes. To retain the old behavior, exclude the relevant entries before the concat operation.\n",
      "  concat_annot = pd.concat(\n"
     ]
    }
   ],
   "source": [
    "adata = sc.concat(adata_list)"
   ]
  },
  {
   "cell_type": "code",
   "execution_count": 7,
   "id": "68866908-65bf-4f86-885d-9cffbf3be997",
   "metadata": {},
   "outputs": [
    {
     "data": {
      "text/plain": [
       "AnnData object with n_obs × n_vars = 450000 × 1916\n",
       "    obs: 'original_barcodes', 'batch_id', 'pool_id', 'chip_id', 'well_id', 'n_umis', 'n_genes', 'plate_location', 'cyto_treatment', 'drug_treatment', 'drug_name', 'drug_cas_number', 'drug_mw', 'drug_solvent', 'drug_pathway', 'drug_target', 'drug_description', 'drug_chembl_name', 'drug_chembl_id', 'AIFI_L1', 'AIFI_L2', 'leiden_2'\n",
       "    obsm: 'X_pca', 'X_umap'"
      ]
     },
     "execution_count": 7,
     "metadata": {},
     "output_type": "execute_result"
    }
   ],
   "source": [
    "adata"
   ]
  },
  {
   "cell_type": "code",
   "execution_count": 19,
   "id": "06bf6348-240f-4072-991f-61b2b6b2c60e",
   "metadata": {},
   "outputs": [],
   "source": [
    "obs = adata.obs.copy()"
   ]
  },
  {
   "cell_type": "code",
   "execution_count": 23,
   "id": "e8837363-f1bf-4cb7-a6fc-465583e29abb",
   "metadata": {},
   "outputs": [],
   "source": [
    "count_types_per_treatment = obs[['drug_name', 'AIFI_L2']].value_counts()"
   ]
  },
  {
   "cell_type": "code",
   "execution_count": 24,
   "id": "8cd914bb-31eb-418e-874c-76b5f0bfc82d",
   "metadata": {},
   "outputs": [
    {
     "data": {
      "text/plain": [
       "drug_name                            AIFI_L2  \n",
       "Erlotinib                            CD4 Naive    6969\n",
       "DMSO Control                         Tregs        6586\n",
       "Baricitinib phosphate                Tregs        6527\n",
       "Afatinib dimaleate                   CD4 Naive    6477\n",
       "Baricitinib (LY3009104, INCB028050)  Tregs        6440\n",
       "                                                  ... \n",
       "Afatinib (BIBW2992)                  CD8aa           2\n",
       "Baricitinib (LY3009104, INCB028050)  CD8aa           1\n",
       "Erlotinib Hydrochloride              CD8aa           1\n",
       "Gefitinib (ZD1839)                   CD8aa           1\n",
       "Ruxolitinib phosphate                CD8aa           1\n",
       "Name: count, Length: 169, dtype: int64"
      ]
     },
     "execution_count": 24,
     "metadata": {},
     "output_type": "execute_result"
    }
   ],
   "source": [
    "count_types_per_treatment"
   ]
  },
  {
   "cell_type": "code",
   "execution_count": 8,
   "id": "171a7cc5-d579-4f4e-9394-18cbb981f3c0",
   "metadata": {},
   "outputs": [
    {
     "name": "stderr",
     "output_type": "stream",
     "text": [
      "/home/workspace/environment/pythonscrna12/lib/python3.13/functools.py:934: UserWarning: zero-centering a sparse array/matrix densifies it.\n",
      "  return dispatch(args[0].__class__)(*args, **kw)\n"
     ]
    }
   ],
   "source": [
    "sc.pp.normalize_total(adata, target_sum = 1e4)\n",
    "sc.pp.log1p(adata)\n",
    "sc.pp.scale(adata)"
   ]
  },
  {
   "cell_type": "code",
   "execution_count": null,
   "id": "32141c8a-ad96-4491-b55a-8f0074fa5c85",
   "metadata": {},
   "outputs": [],
   "source": []
  }
 ],
 "metadata": {
  "kernelspec": {
   "display_name": "Python (pythonscrna12)",
   "language": "python",
   "name": "python-pythonscrna12"
  },
  "language_info": {
   "codemirror_mode": {
    "name": "ipython",
    "version": 3
   },
   "file_extension": ".py",
   "mimetype": "text/x-python",
   "name": "python",
   "nbconvert_exporter": "python",
   "pygments_lexer": "ipython3",
   "version": "3.13.7"
  }
 },
 "nbformat": 4,
 "nbformat_minor": 5
}
