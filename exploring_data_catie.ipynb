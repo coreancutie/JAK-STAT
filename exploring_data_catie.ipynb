{
 "cells": [
  {
   "cell_type": "markdown",
   "id": "88102a98-ecc6-4ac2-950b-837b12257961",
   "metadata": {},
   "source": [
    "# Loading in the Data"
   ]
  },
  {
   "cell_type": "code",
   "execution_count": 1,
   "id": "78410262-f723-4e05-a272-fe244208e15b",
   "metadata": {},
   "outputs": [
    {
     "name": "stderr",
     "output_type": "stream",
     "text": [
      "/home/workspace/environment/pythonscrna12/lib/python3.13/site-packages/leidenalg/VertexPartition.py:413: SyntaxWarning: invalid escape sequence '\\m'\n",
      "  .. math:: Q = \\\\frac{1}{m} \\\\sum_{ij} \\\\left(A_{ij} - \\\\frac{k_i^\\mathrm{out} k_j^\\mathrm{in}}{m} \\\\right)\\\\delta(\\\\sigma_i, \\\\sigma_j),\n",
      "/home/workspace/environment/pythonscrna12/lib/python3.13/site-packages/leidenalg/VertexPartition.py:788: SyntaxWarning: invalid escape sequence '\\m'\n",
      "  .. math:: Q = \\\\sum_{ij} \\\\left(A_{ij} - \\\\gamma \\\\frac{k_i^\\mathrm{out} k_j^\\mathrm{in}}{m} \\\\right)\\\\delta(\\\\sigma_i, \\\\sigma_j),\n",
      "/home/workspace/environment/pythonscrna12/lib/python3.13/site-packages/leidenalg/Optimiser.py:27: SyntaxWarning: invalid escape sequence '\\g'\n",
      "  implementation therefore does not guarantee subpartition :math:`\\gamma`-density.\n",
      "/home/workspace/environment/pythonscrna12/lib/python3.13/site-packages/leidenalg/Optimiser.py:346: SyntaxWarning: invalid escape sequence '\\s'\n",
      "  .. math:: Q = \\sum_k \\\\lambda_k Q_k.\n"
     ]
    }
   ],
   "source": [
    "#the package imports we need\n",
    "import hisepy\n",
    "import scanpy as sc\n",
    "import pandas as pd"
   ]
  },
  {
   "cell_type": "code",
   "execution_count": 2,
   "id": "b31a396a-4dfe-490f-ad58-83798c936aea",
   "metadata": {},
   "outputs": [],
   "source": [
    "#importing the data file\n",
    "h5ad_files = hisepy.cache_fileset('f48bf688-1a5f-456c-b0b0-c6ec870ec003')"
   ]
  },
  {
   "cell_type": "code",
   "execution_count": 3,
   "id": "44ecb35b-cb9a-44b3-a6d8-95022c4a4fd8",
   "metadata": {},
   "outputs": [
    {
     "data": {
      "text/plain": [
       "['/home/workspace/input/1784782472/fileset/f48bf688-1a5f-456c-b0b0-c6ec870ec003/rhodium-niobium-silver/Afatinib_BIBW2992_counts_filtered_labeled_sampled.h5ad',\n",
       " '/home/workspace/input/1784782472/fileset/f48bf688-1a5f-456c-b0b0-c6ec870ec003/rhodium-niobium-silver/Afatinib_dimaleate_counts_filtered_labeled_sampled.h5ad',\n",
       " '/home/workspace/input/1784782472/fileset/f48bf688-1a5f-456c-b0b0-c6ec870ec003/rhodium-niobium-silver/Baricitinib_LY3009104_INCB028050_counts_filtered_labeled_sampled.h5ad',\n",
       " '/home/workspace/input/1784782472/fileset/f48bf688-1a5f-456c-b0b0-c6ec870ec003/rhodium-niobium-silver/Baricitinib_phosphate_counts_filtered_labeled_sampled.h5ad',\n",
       " '/home/workspace/input/1784782472/fileset/f48bf688-1a5f-456c-b0b0-c6ec870ec003/rhodium-niobium-silver/Canertinib_CI-1033_counts_filtered_labeled_sampled.h5ad']"
      ]
     },
     "execution_count": 3,
     "metadata": {},
     "output_type": "execute_result"
    }
   ],
   "source": [
    "#looking at the first 5 file names\n",
    "h5ad_files[0:5]"
   ]
  },
  {
   "cell_type": "code",
   "execution_count": 4,
   "id": "e6b59015-8ca5-45e0-88de-5c1ea5b2f00a",
   "metadata": {},
   "outputs": [],
   "source": [
    "#creating a list\n",
    "adata_list = []\n",
    "\n",
    "#looping through the file names\n",
    "for h5ad_file in h5ad_files:\n",
    "    #read the file into an AnnData object using scanpy\n",
    "    adata = sc.read_h5ad(h5ad_file)\n",
    "    #appending the AnnData file into the list\n",
    "    adata_list.append(adata)"
   ]
  },
  {
   "cell_type": "code",
   "execution_count": 5,
   "id": "6caeada4-ed97-428b-a4c0-70d40ee5b528",
   "metadata": {},
   "outputs": [
    {
     "data": {
      "text/plain": [
       "[AnnData object with n_obs × n_vars = 25000 × 1916\n",
       "     obs: 'original_barcodes', 'batch_id', 'pool_id', 'chip_id', 'well_id', 'n_umis', 'n_genes', 'plate_location', 'cyto_treatment', 'drug_treatment', 'drug_name', 'drug_cas_number', 'drug_mw', 'drug_solvent', 'drug_pathway', 'drug_target', 'drug_description', 'drug_chembl_name', 'drug_chembl_id', 'AIFI_L1', 'AIFI_L2', 'leiden_2'\n",
       "     uns: 'drug_name_colors', 'leiden_2', 'neighbors', 'pca', 'umap'\n",
       "     obsm: 'X_pca', 'X_umap'\n",
       "     obsp: 'connectivities', 'distances',\n",
       " AnnData object with n_obs × n_vars = 25000 × 1916\n",
       "     obs: 'original_barcodes', 'batch_id', 'pool_id', 'chip_id', 'well_id', 'n_umis', 'n_genes', 'plate_location', 'cyto_treatment', 'drug_treatment', 'drug_name', 'drug_cas_number', 'drug_mw', 'drug_solvent', 'drug_pathway', 'drug_target', 'drug_description', 'drug_chembl_name', 'drug_chembl_id', 'AIFI_L1', 'AIFI_L2', 'leiden_2'\n",
       "     uns: 'drug_name_colors', 'leiden_2', 'neighbors', 'pca', 'umap'\n",
       "     obsm: 'X_pca', 'X_umap'\n",
       "     obsp: 'connectivities', 'distances']"
      ]
     },
     "execution_count": 5,
     "metadata": {},
     "output_type": "execute_result"
    }
   ],
   "source": [
    "#looking at the first 2 AnnData objects in the list\n",
    "adata_list[0:2]"
   ]
  },
  {
   "cell_type": "markdown",
   "id": "c86597c4-f9df-45b4-b1cd-92e1afdd283e",
   "metadata": {},
   "source": [
    "**Each sample has 25,000 observations and 1916 samples.**"
   ]
  },
  {
   "cell_type": "code",
   "execution_count": 6,
   "id": "e9d94d22-275f-4f22-af91-4bef1c2ba83b",
   "metadata": {},
   "outputs": [
    {
     "data": {
      "text/plain": [
       "18"
      ]
     },
     "execution_count": 6,
     "metadata": {},
     "output_type": "execute_result"
    }
   ],
   "source": [
    "#seeing how many data are in the list (it's 18: 8 drugs with 2 formulas and 2 controls)\n",
    "len(adata_list)"
   ]
  },
  {
   "cell_type": "code",
   "execution_count": 7,
   "id": "60c02054-a48f-4130-b776-5215bfb40f85",
   "metadata": {},
   "outputs": [
    {
     "name": "stderr",
     "output_type": "stream",
     "text": [
      "/home/workspace/environment/pythonscrna12/lib/python3.13/site-packages/anndata/_core/merge.py:1667: FutureWarning: The behavior of DataFrame concatenation with empty or all-NA entries is deprecated. In a future version, this will no longer exclude empty or all-NA columns when determining the result dtypes. To retain the old behavior, exclude the relevant entries before the concat operation.\n",
      "  concat_annot = pd.concat(\n"
     ]
    }
   ],
   "source": [
    "#concatenating/combining all of the AnnData objects into one\n",
    "adata = sc.concat(adata_list)"
   ]
  },
  {
   "cell_type": "code",
   "execution_count": 8,
   "id": "c5023f72-fa4b-462d-9cf2-bffd331e1b45",
   "metadata": {},
   "outputs": [
    {
     "data": {
      "text/plain": [
       "AnnData object with n_obs × n_vars = 450000 × 1916\n",
       "    obs: 'original_barcodes', 'batch_id', 'pool_id', 'chip_id', 'well_id', 'n_umis', 'n_genes', 'plate_location', 'cyto_treatment', 'drug_treatment', 'drug_name', 'drug_cas_number', 'drug_mw', 'drug_solvent', 'drug_pathway', 'drug_target', 'drug_description', 'drug_chembl_name', 'drug_chembl_id', 'AIFI_L1', 'AIFI_L2', 'leiden_2'\n",
       "    obsm: 'X_pca', 'X_umap'"
      ]
     },
     "execution_count": 8,
     "metadata": {},
     "output_type": "execute_result"
    }
   ],
   "source": [
    "adata"
   ]
  },
  {
   "cell_type": "markdown",
   "id": "dcab78eb-7c00-45c3-9537-8415d83773f9",
   "metadata": {},
   "source": [
    "**From concatenating, there are 450,000 obersvations (25,000 * 18) and 1916 samples.**"
   ]
  },
  {
   "cell_type": "code",
   "execution_count": 9,
   "id": "1b82cd23-98df-4269-8434-57dbd79b176d",
   "metadata": {},
   "outputs": [],
   "source": [
    "#creating a copy of the data above\n",
    "#so any manipulations done won't affect the original data\n",
    "obs = adata.obs.copy()"
   ]
  },
  {
   "cell_type": "code",
   "execution_count": 10,
   "id": "b6e70b7e-034f-4672-b94b-cb7896b1843f",
   "metadata": {},
   "outputs": [
    {
     "data": {
      "text/plain": [
       "AIFI_L2            \n",
       "CD4 Naive              118058\n",
       "CD4 Central Memory     107272\n",
       "CD8 Naive               78553\n",
       "CD4 Effector Memory     49677\n",
       "CD8 Effector Memory     39593\n",
       "CD8 Central Memory      25655\n",
       "Treg                    22905\n",
       "MAIT                     8262\n",
       "CD8aa                      25\n",
       "Name: count, dtype: int64"
      ]
     },
     "execution_count": 10,
     "metadata": {},
     "output_type": "execute_result"
    }
   ],
   "source": [
    "#assigning a variable and getting certain columns out\n",
    "count_types_per_treatment = obs[['AIFI_L2']].value_counts()\n",
    "count_types_per_treatment"
   ]
  },
  {
   "cell_type": "markdown",
   "id": "fe84ddc1-ec33-4b2f-8d90-2f484be05e46",
   "metadata": {},
   "source": [
    "# Start of Scanpy Preprocessing and Clustering"
   ]
  },
  {
   "cell_type": "code",
   "execution_count": 11,
   "id": "5975c637-4e76-40de-98e0-f69c24723d7a",
   "metadata": {},
   "outputs": [
    {
     "name": "stderr",
     "output_type": "stream",
     "text": [
      "/home/workspace/environment/pythonscrna12/lib/python3.13/functools.py:934: UserWarning: zero-centering a sparse array/matrix densifies it.\n",
      "  return dispatch(args[0].__class__)(*args, **kw)\n"
     ]
    }
   ],
   "source": [
    "#rescaling each cell to a specific library size\n",
    "sc.pp.normalize_total(adata, target_sum = 1e4)\n",
    "#applying a log-transform to the data\n",
    "sc.pp.log1p(adata)\n",
    "#centers the data and scales it to unit variance\n",
    "sc.pp.scale(adata)"
   ]
  },
  {
   "cell_type": "markdown",
   "id": "348553a1-7355-4499-81f6-0c31b2d630ad",
   "metadata": {},
   "source": [
    "The 3 steps above (normalization, log-transformation, and centering) ensures that all of the genes are on a similar scale. Having all the genes on a similar scale prevents any highly expressed genes from affecting or skewing downstream analysis. "
   ]
  },
  {
   "cell_type": "code",
   "execution_count": 16,
   "id": "2ee49be2-5fd6-4f65-8733-f9ed5bf6fc75",
   "metadata": {},
   "outputs": [
    {
     "data": {
      "text/plain": [
       "Index(['LAP3', 'CD99', 'CASP10', 'CD38', 'CREBBP', 'ITGAL', 'ITGA3', 'LAMP2',\n",
       "       'ITGA2B', 'CX3CL1',\n",
       "       ...\n",
       "       'PLEKHM1', 'PRAF2', 'CEBPA', 'TWF2', 'HOXA10', 'CHMP4A', 'POLG2',\n",
       "       'RBM15B', 'DUSP14', 'PIP4K2B'],\n",
       "      dtype='object', length=1916)"
      ]
     },
     "execution_count": 16,
     "metadata": {},
     "output_type": "execute_result"
    }
   ],
   "source": [
    "adata.var_names"
   ]
  }
 ],
 "metadata": {
  "kernelspec": {
   "display_name": "Python (pythonscrna12)",
   "language": "python",
   "name": "python-pythonscrna12"
  },
  "language_info": {
   "codemirror_mode": {
    "name": "ipython",
    "version": 3
   },
   "file_extension": ".py",
   "mimetype": "text/x-python",
   "name": "python",
   "nbconvert_exporter": "python",
   "pygments_lexer": "ipython3",
   "version": "3.13.7"
  }
 },
 "nbformat": 4,
 "nbformat_minor": 5
}
